{
 "cells": [
  {
   "cell_type": "code",
   "execution_count": 20,
   "metadata": {},
   "outputs": [],
   "source": [
    "import networkx as nx\n",
    "\n",
    "\n",
    "\n",
    "\n",
    "\n",
    "def init_visited(length: int):\n",
    "    return [False for _ in range(length)]\n",
    "\n",
    "\n",
    "\n",
    "def dfs(g: nx.Graph, node_idx: int, visited, mapping, reverse_mapping) -> None:\n",
    "    if visited[node_idx]:\n",
    "        return\n",
    "    visited[node_idx] = True\n",
    "    for node in g.neighbors(mapping[node_idx]):\n",
    "        dfs(g, reverse_mapping[node], visited, mapping, reverse_mapping)\n",
    "    return visited\n",
    "\n",
    "def get_connexed_Graph_from_node(g : nx.Graph , nodeIndex : int , visitedNodes , all_nodes_visited):\n",
    "    # global subgraph_nodes_visited\n",
    "    if not(nodeIndex in visitedNodes):\n",
    "        visitedNodes.append(nodeIndex)\n",
    "        if not nodeIndex in all_nodes_visited:\n",
    "            all_nodes_visited.append(nodeIndex)\n",
    "        neighbors = g.neighbors(nodeIndex)\n",
    "        for neighbor in neighbors:\n",
    "            get_connexed_Graph_from_node(g , neighbor , visitedNodes , all_nodes_visited)\n",
    "\n",
    "def get_connexed_Graphs_lists(g: nx.Graph):\n",
    "    graphNodes=g.nodes()\n",
    "    graphEdges=g.edges()\n",
    "    all_nodes_visted=[]\n",
    "    graphs=[]\n",
    "    for nodeIndex in graphNodes:\n",
    "        if not(nodeIndex in all_nodes_visted):\n",
    "            visitedNodes=[]\n",
    "            get_connexed_Graph_from_node(g , nodeIndex , visitedNodes , all_nodes_visted)\n",
    "            new_g = nx.Graph()\n",
    "            # print(\"visited Nodes =\", visitedNodes)\n",
    "            new_g.add_nodes_from(visitedNodes)\n",
    "            for edgeTuple in graphEdges:\n",
    "                if edgeTuple[0] in visitedNodes:\n",
    "                    new_g.add_edge(edgeTuple[0],  edgeTuple[1])\n",
    "            graphs.append(new_g)\n",
    "    return graphs\n",
    "\n",
    "def mapping(g):\n",
    "    m = {}\n",
    "    i = 0\n",
    "    for node in g.nodes():\n",
    "        m[i] = node\n",
    "        i += 1\n",
    "    return m\n",
    "def reverse_mapping(g):\n",
    "    m = {}\n",
    "    i = 0\n",
    "    for node in g.nodes():\n",
    "        m[node] = i\n",
    "        i += 1\n",
    "    return m\n",
    "\n",
    "## Get the cutting nodes\n",
    "def findArticulationPoints(g: nx.Graph, graph_degree: int):\n",
    "    cut_nodes = []\n",
    "    for i in range(graph_degree):\n",
    "        ## remove node\n",
    "        cloned = g.copy()\n",
    "        m = mapping(g)\n",
    "        rm = reverse_mapping(g)\n",
    "        cloned.remove_node(m[i])\n",
    "        \n",
    "        for j in range(graph_degree):\n",
    "            if j != i:\n",
    "                visited = init_visited(graph_degree)\n",
    "                dfs(cloned, j, visited, m, rm)\n",
    "                visited.pop(i)\n",
    "                if not all(visited):\n",
    "                    # i is an articulation point\n",
    "                    if not m[i] in cut_nodes:\n",
    "                        cut_nodes.append(m[i])\n",
    "    return cut_nodes\n",
    "\n",
    "\n",
    "## The main function\n",
    "def main(g: nx.Graph):\n",
    "    articulation_points = set()\n",
    "    for subgraph in get_connexed_Graphs_lists(g):\n",
    "        articulation_points = articulation_points.union(set(findArticulationPoints(subgraph, nx.number_of_nodes(subgraph))))\n",
    "    print(articulation_points)\n",
    "    return articulation_points"
   ]
  },
  {
   "cell_type": "code",
   "execution_count": 2,
   "metadata": {},
   "outputs": [
    {
     "name": "stdout",
     "output_type": "stream",
     "text": [
      "{3, 4, 5, 9, 10, 11}\n"
     ]
    }
   ],
   "source": [
    "g = nx.Graph()\n",
    "g.add_nodes_from([1, 2, 3, 4, 5, 6, 7, 8, 9, 10, 11, 12])\n",
    "g.add_edges_from([(1, 2),(1, 3),(2, 3),(3, 4), (4, 5), (5, 6), (5, 7), (6, 7), (8, 9), (9, 10), (10, 11), (11, 12)])\n",
    "cut_nodes = main(g)"
   ]
  },
  {
   "cell_type": "code",
   "execution_count": 6,
   "metadata": {},
   "outputs": [],
   "source": [
    "def colorize_graph():\n",
    "    color_map = [\"green\" for _ in g.nodes()]\n",
    "    cut_nodes = main()\n",
    "    for i in range(len(color_map)):\n",
    "        if i+1 in cut_nodes:\n",
    "            color_map[i] = \"red\"\n",
    "    nx.draw(g, node_color=color_map)"
   ]
  }
 ],
 "metadata": {
  "kernelspec": {
   "display_name": "Python 3",
   "language": "python",
   "name": "python3"
  },
  "language_info": {
   "codemirror_mode": {
    "name": "ipython",
    "version": 3
   },
   "file_extension": ".py",
   "mimetype": "text/x-python",
   "name": "python",
   "nbconvert_exporter": "python",
   "pygments_lexer": "ipython3",
   "version": "3.7.7"
  }
 },
 "nbformat": 4,
 "nbformat_minor": 4
}
